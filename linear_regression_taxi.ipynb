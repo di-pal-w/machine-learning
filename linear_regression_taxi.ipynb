{
  "nbformat": 4,
  "nbformat_minor": 0,
  "metadata": {
    "colab": {
      "provenance": [],
      "authorship_tag": "ABX9TyM40S8kl1RawHv6rdE9VRIC",
      "include_colab_link": true
    },
    "kernelspec": {
      "name": "python3",
      "display_name": "Python 3"
    },
    "language_info": {
      "name": "python"
    }
  },
  "cells": [
    {
      "cell_type": "markdown",
      "metadata": {
        "id": "view-in-github",
        "colab_type": "text"
      },
      "source": [
        "<a href=\"https://colab.research.google.com/github/di-pal-w/machine-learning/blob/main/linear_regression_taxi.ipynb\" target=\"_parent\"><img src=\"https://colab.research.google.com/assets/colab-badge.svg\" alt=\"Open In Colab\"/></a>"
      ]
    },
    {
      "cell_type": "markdown",
      "source": [
        "practising my first lr model"
      ],
      "metadata": {
        "id": "7keTeqT1El_J"
      }
    },
    {
      "cell_type": "code",
      "source": [],
      "metadata": {
        "id": "PJdTzIfHEkVa"
      },
      "execution_count": null,
      "outputs": []
    }
  ]
}